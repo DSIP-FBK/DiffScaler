{
 "cells": [
  {
   "cell_type": "code",
   "execution_count": null,
   "metadata": {},
   "outputs": [],
   "source": [
    "import sys\n",
    "sys.path.append('..')\n",
    "\n",
    "import pandas as pd\n",
    "from utils.plotting_utils import show_snapshots\n"
   ]
  },
  {
   "cell_type": "code",
   "execution_count": null,
   "metadata": {},
   "outputs": [],
   "source": [
    "# Set paths\n",
    "results_2mT_file_path = '../pretrained_models/outputs/results_trained_models_2mT.pkl'\n",
    "results_UV_file_path = '../pretrained_models/outputs/results_trained_models_UV.pkl'\n",
    "\n",
    "borders_file = '../data/plotting_resources/borders_domain_EPSG3035.geojson'\n",
    "\n",
    "output_path = '../outputs/'"
   ]
  },
  {
   "cell_type": "code",
   "execution_count": null,
   "metadata": {},
   "outputs": [],
   "source": [
    "# Read in metrics\n",
    "results_2mT = pd.read_pickle(results_2mT_file_path)\n",
    "results_UV = pd.read_pickle(results_UV_file_path)\n",
    "\n",
    "results_df =  pd.concat([results_2mT,results_UV], ignore_index=True)"
   ]
  },
  {
   "cell_type": "code",
   "execution_count": null,
   "metadata": {},
   "outputs": [],
   "source": [
    "# Plot data and save images to output_path directory\n",
    "for ts in results_df['time_step'].unique():\n",
    "    map = show_snapshots(results_df[results_df['time_step'] == ts], target_res='high', output_dir=output_path, main_title=ts, borders_file=borders_file)"
   ]
  },
  {
   "cell_type": "code",
   "execution_count": null,
   "metadata": {},
   "outputs": [],
   "source": []
  }
 ],
 "metadata": {
  "kernelspec": {
   "display_name": ".venv",
   "language": "python",
   "name": "python3"
  },
  "language_info": {
   "codemirror_mode": {
    "name": "ipython",
    "version": 3
   },
   "file_extension": ".py",
   "mimetype": "text/x-python",
   "name": "python",
   "nbconvert_exporter": "python",
   "pygments_lexer": "ipython3",
   "version": "3.10.12"
  }
 },
 "nbformat": 4,
 "nbformat_minor": 2
}
